{
 "cells": [
  {
   "cell_type": "markdown",
   "metadata": {},
   "source": [
    "# Sestavimo Agenta\n",
    "V tem zvezku bomo skupaj sesatvili spraševanje po strukturiranih in nestrukturiranih podatkih in to zapakirali v agenta.\n",
    "Agent je v LangChain-u opisan kot:\\\n",
    "\\\n",
    "\"The core idea of agents is to use a language model to choose a sequence of actions to take. In chains, a sequence of actions is hardcoded (in code). In agents, a language model is used as a reasoning engine to determine which actions to take and in which order.\" \n",
    "\n",
    "Preko primera bomo predstavili nekatere ključne koncepte:\n",
    "* Agent - Veriga odgovorna za izbiro naslednjega koraka.\n",
    "* Tools - Fukcije, katere lahko agent uporablja.\n",
    "* Toolkits - Zbirka relevantih orodij (veliko pred definiranih).\n",
    "* AgentExecutor - runtime agenta (reševanje napak, logging, ...).\n"
   ]
  },
  {
   "cell_type": "code",
   "execution_count": null,
   "metadata": {},
   "outputs": [],
   "source": [
    "%%capture\n",
    "!pip install langchain langchain_community langchain_openai python-dotenv openai faiss-cpu"
   ]
  },
  {
   "cell_type": "code",
   "execution_count": null,
   "metadata": {},
   "outputs": [],
   "source": [
    "import os\n",
    "import requests\n",
    "from typing import Optional\n",
    "\n",
    "import dotenv\n",
    "\n",
    "from langchain.agents import AgentType, initialize_agent, create_react_agent\n",
    "from langchain_openai import ChatOpenAI\n",
    "from langchain.agents.agent_toolkits import SQLDatabaseToolkit\n",
    "from langchain.utilities import SQLDatabase\n",
    "from langchain.memory import ConversationBufferMemory\n",
    "from langchain.tools.base import BaseTool\n",
    "from langchain.tools.sql_database.tool import BaseSQLDatabaseTool\n",
    "from langchain.callbacks.manager import CallbackManagerForToolRun\n",
    "from langchain.vectorstores import FAISS\n",
    "from langchain.schema.vectorstore import VectorStoreRetriever\n",
    "from langchain.embeddings import OpenAIEmbeddings"
   ]
  },
  {
   "cell_type": "code",
   "execution_count": null,
   "metadata": {},
   "outputs": [],
   "source": [
    "if not dotenv.load_dotenv():\n",
    "    os.environ[\"DB_CONNECT\"] = \"postgres-uri\"\n",
    "    os.environ[\"OPENAI_API_KEY\"] = \"openai-key\""
   ]
  },
  {
   "cell_type": "markdown",
   "metadata": {},
   "source": [
    "#### Inicializacija komponent"
   ]
  },
  {
   "cell_type": "code",
   "execution_count": null,
   "metadata": {},
   "outputs": [],
   "source": [
    "llm = ChatOpenAI(temperature=0, model=\"gpt-4-turbo\")\n",
    "\n",
    "db = SQLDatabase.from_uri(os.getenv(\"DB_CONNECT\"))\n",
    "sql_toolkit = SQLDatabaseToolkit(db=db, llm=llm)\n",
    "\n",
    "memory = ConversationBufferMemory(memory_key=\"chat_history\", return_messages=True)\n",
    "\n",
    "vectorstore = FAISS.load_local(\"../Data/nba_rules_faiss\", embeddings=OpenAIEmbeddings(), allow_dangerous_deserialization=True)\n",
    "retriever = vectorstore.as_retriever(search_kwargs={\"k\": 3})"
   ]
  },
  {
   "cell_type": "markdown",
   "metadata": {},
   "source": [
    "#### Definicija orodij"
   ]
  },
  {
   "cell_type": "code",
   "execution_count": null,
   "metadata": {},
   "outputs": [],
   "source": [
    "class QuerySQLDataBaseTool(BaseSQLDatabaseTool, BaseTool):\n",
    "    \"\"\"Tool for querying a SQL database.\"\"\"\n",
    "\n",
    "    name: str = \"sql_db_query\"\n",
    "    description: str = \"\"\"\n",
    "    Input to this tool is a detailed and correct PostgreSQL query, output is a result from the database.\n",
    "    If the query is not correct, an error message will be returned.\n",
    "    If an error is returned, rewrite the query, check the query, and try again.\n",
    "    \"\"\"\n",
    "\n",
    "    def _run(\n",
    "        self,\n",
    "        query: str,\n",
    "        run_manager: Optional[CallbackManagerForToolRun] = None,\n",
    "    ) -> str:\n",
    "        \"\"\"Execute the query, return the results or an error message.\"\"\"\n",
    "        return self.db.run_no_throw(query)"
   ]
  },
  {
   "cell_type": "code",
   "execution_count": null,
   "metadata": {},
   "outputs": [],
   "source": [
    "class CheckSchedule(BaseTool):\n",
    "    \"\"\"Tool for querying a SQL database.\"\"\"\n",
    "\n",
    "    name: str = \"check_schedule\"\n",
    "    description: str = \"\"\"\n",
    "    Input to this tool is date in the format YYYY-MM-DD, output is list of games with the corresponding ID and teams.\n",
    "    If the date is not correct, an error message will be returned. If there are no games on the date, an empty list will be returned.\n",
    "    \"\"\"\n",
    "\n",
    "    def _run(\n",
    "        self,\n",
    "        date: str,\n",
    "        run_manager: Optional[CallbackManagerForToolRun] = None,\n",
    "    ) -> str:\n",
    "        \"\"\"Execute the query, return the results or an error message.\"\"\"\n",
    "        response = requests.get(f\"http://0.0.0.0:8000/schedule/{date}\").json()\n",
    "        return f\"The available games are {response}. Respond to the user with the appropriate matchups and the corresponding IDs.\""
   ]
  },
  {
   "cell_type": "code",
   "execution_count": null,
   "metadata": {},
   "outputs": [],
   "source": [
    "class ReserveSeat(BaseTool):\n",
    "    \"\"\"Tool for querying a SQL database.\"\"\"\n",
    "\n",
    "    name: str = \"reserve_seat\"\n",
    "    description: str = \"\"\"\n",
    "    Input to this tool is a valid game ID obtained from 'check_schedule' tool, output is a string.\n",
    "    If the ID is not correct, an error message will be returned. Make sure to use the ID from the list of games on the date you want to attend.\n",
    "    \"\"\"\n",
    "\n",
    "    def _run(\n",
    "        self,\n",
    "        ID: str,\n",
    "        run_manager: Optional[CallbackManagerForToolRun] = None,\n",
    "    ) -> str:\n",
    "        \"\"\"Execute the query, return the results or an error message.\"\"\"\n",
    "        response = requests.post(f\"http://0.0.0.0:8000/reserve-seat/{ID}\").json()\n",
    "\n",
    "        if \"detail\" in response:\n",
    "            return response[\"detail\"]\n",
    "        elif \"seat_number\" in response:\n",
    "            return f\"Your seat has been reserved. Your seat number is {response['seat_number']}. Please arrive 30 minutes before the game starts. Your reservation ID is {response['reservation_id']}\"\n",
    "        else:\n",
    "            return \"Something went wrong. Please try again.\""
   ]
  },
  {
   "cell_type": "code",
   "execution_count": null,
   "metadata": {},
   "outputs": [],
   "source": [
    "class WikiAndRulebook(BaseTool):\n",
    "    \"\"\"Tool for querying a SQL database.\"\"\"\n",
    "\n",
    "    name: str = \"rulebook_and_wiki_info\"\n",
    "    description: str = \"\"\"\n",
    "    Input to this tool is a string with a detailed description of the topic of interest, output is a string providing potentially relevant results.\n",
    "    Use this tool for info about the NBA rules and general info not provided in the database.\n",
    "    \"\"\"\n",
    "    retriever: VectorStoreRetriever = None\n",
    "\n",
    "    def _run(\n",
    "        self,\n",
    "        query: str,\n",
    "        run_manager: Optional[CallbackManagerForToolRun] = None,\n",
    "    ) -> str:\n",
    "        \"\"\"Execute the query, return the results or an error message.\"\"\"\n",
    "        relevant_documents = retriever.get_relevant_documents(query)\n",
    "        return f\"\"\"The retrieved documents are encased in triple ticks:\n",
    "    ```\n",
    "    {relevant_documents}\n",
    "    ```\n",
    "    Use the information provided in the documents if its relevant.\"\"\""
   ]
  },
  {
   "cell_type": "code",
   "execution_count": null,
   "metadata": {},
   "outputs": [],
   "source": [
    "tools = [\n",
    "    QuerySQLDataBaseTool(db=db),\n",
    "    CheckSchedule(),\n",
    "    ReserveSeat(),\n",
    "    WikiAndRulebook(retriever=retriever),\n",
    "]"
   ]
  },
  {
   "cell_type": "markdown",
   "metadata": {},
   "source": [
    "#### Sistemsko sporočilo za Gospoda NBA"
   ]
  },
  {
   "cell_type": "code",
   "execution_count": null,
   "metadata": {},
   "outputs": [],
   "source": [
    "system_message = \"\"\"You are an NBA journalist called Mr. NBA. Current date is 2023-11-21.\n",
    "You are designed to assist to be able to assist with a wide range of tasks, from answering simple questions to providing in-depth explanations and discussions on a wide range of topics.\n",
    "You are friendly and helpful and will try to answer any questions you are asked that are related to the NBA.\n",
    "Given an input question, you have multiple tools to help you answer the question. When interacting with the PostgreSQL database create a syntactically correct PostgreSQL query to run.\n",
    "Wrap each column name in double quotes (\") to denote them as delimited identifiers. You MUST double check your query before executing it.\n",
    "If you get an error while executing a query, rewrite the query and try again. DO NOT make any DML statements (INSERT, UPDATE, DELETE, DROP etc.) to the database.\n",
    "Do not return ID's of teams and players, instead return their names. When talking about a game always mention between which teams the game was played.\n",
    "\n",
    "If the question does not seem related to the NBA and the information provided by the tools can't help you reply with 'Sorry mister I just don't know.'.\n",
    "If you are not confident in your answer or if the data is not available, reply with 'Sorry mister I am not sure.'.\n",
    "Only use the information returned by the below tools to construct your final answer.\n",
    "\n",
    "The follwoing tables are available in the datatabase:\n",
    "TABLE general_game_details (\\n\\tgame_date_est TEXT, \\n\\tgame_id BIGINT, \\n\\thome_team_id BIGINT, \\n\\tvisitor_team_id BIGINT, \\n\\tseason BIGINT, \\n\\tpoints_scored_home_team DOUBLE PRECISION, \\n\\tfield_goal_percentage_home_team DOUBLE PRECISION, \\n\\tfree_throw_percentage_home_team DOUBLE PRECISION, \\n\\tthree_point_percentage_home_team DOUBLE PRECISION, \\n\\tassists_home_team DOUBLE PRECISION, \\n\\trebounds_home_team DOUBLE PRECISION, \\n\\tpoints_scored_away_team DOUBLE PRECISION, \\n\\tfield_goal_percentage_away_team DOUBLE PRECISION, \\n\\tfree_throw_percentage_away_team DOUBLE PRECISION, \\n\\tthree_point_percentage_away_team DOUBLE PRECISION, \\n\\tassists_away_team DOUBLE PRECISION, \\n\\trebounds_away_team DOUBLE PRECISION, \\n\\thome_team_wins BIGINT\\n)\n",
    "\n",
    "TABLE player_game_details (\\n\\tgame_id BIGINT, \\n\\tteam_id BIGINT, \\n\\tteam_abbreviation TEXT, \\n\\tteam_city TEXT, \\n\\tplayer_id BIGINT, \\n\\tplayer_name TEXT, \\n\\tnickname TEXT, \\n\\tminutes_played TEXT, \\n\\tfield_goals_made DOUBLE PRECISION, \\n\\tfield_goals_attempted DOUBLE PRECISION, \\n\\tfield_goal_percentage DOUBLE PRECISION, \\n\\tthree_pointers_made DOUBLE PRECISION, \\n\\tthree_pointers_attempted DOUBLE PRECISION, \\n\\tthree_pointers_percentage DOUBLE PRECISION, \\n\\tfree_throws_made DOUBLE PRECISION, \\n\\tfree_throws_attempted DOUBLE PRECISION, \\n\\tfree_throws_percentage DOUBLE PRECISION, \\n\\toffensive_rebounds DOUBLE PRECISION, \\n\\tdefensive_rebounds DOUBLE PRECISION, \\n\\trebounds DOUBLE PRECISION, \\n\\tassists DOUBLE PRECISION, \\n\\tstalls DOUBLE PRECISION, \\n\\tblocked_shots DOUBLE PRECISION, \\n\\tturnovers DOUBLE PRECISION, \\n\\tpersonal_fouls DOUBLE PRECISION, \\n\\tpoints_scored DOUBLE PRECISION\\n)\n",
    "\n",
    "TABLE player_general_details (\\n\\tplayer_name TEXT, \\n\\tteam_id BIGINT, \\n\\tplayer_id BIGINT, \\n\\tseason BIGINT\\n)\n",
    "\n",
    "TABLE team_general_details (\\n\\tteam_id BIGINT, \\n\\tabbreviation TEXT, \\n\\tnickname TEXT, \\n\\tcity TEXT, \\n\\tarena TEXT, \\n\\tarena_capacity DOUBLE PRECISION, \\n\\towner TEXT, \\n\\tgeneral_manager TEXT, \\n\\theadcoach TEXT)\n",
    "\n",
    "TABLE team_rankings (\\n\\tteam_id BIGINT, \\n\\tleague_id BIGINT, \\n\\tseason_id BIGINT, \\n\\tstandingsdate TEXT, \\n\\tconference TEXT, \\n\\tteam TEXT, \\n\\tgames_played BIGINT, \\n\\tgames_won BIGINT, \\n\\tgames_lost BIGINT, \\n\\twin_percentage DOUBLE PRECISION, \\n\\thome_record TEXT, \\n\\troad_record TEXT\\n)\n",
    "\"\"\""
   ]
  },
  {
   "cell_type": "markdown",
   "metadata": {},
   "source": [
    "#### Sestavljanje agenta"
   ]
  },
  {
   "cell_type": "code",
   "execution_count": null,
   "metadata": {},
   "outputs": [],
   "source": [
    "memory = ConversationBufferMemory(memory_key=\"chat_history\", return_messages=True)\n",
    "agent_chain = initialize_agent(\n",
    "    tools,\n",
    "    llm,\n",
    "    agent=AgentType.CHAT_CONVERSATIONAL_REACT_DESCRIPTION,\n",
    "    verbose=True,\n",
    "    memory=memory,\n",
    "    agent_kwargs={\"system_message\": system_message},\n",
    "    handle_parsing_errors=True,\n",
    ")"
   ]
  },
  {
   "cell_type": "markdown",
   "metadata": {},
   "source": [
    "### Primeri\n",
    "Sesatvili smo NBA agenta, ki je sposoben odgovrajati na naša vprašanja. \n",
    "\n",
    "Čas za testiranje:"
   ]
  },
  {
   "cell_type": "code",
   "execution_count": null,
   "metadata": {},
   "outputs": [],
   "source": [
    "agent_chain.invoke(input=\"Hey, what is your name?\")[\"output\"]"
   ]
  },
  {
   "cell_type": "code",
   "execution_count": null,
   "metadata": {},
   "outputs": [],
   "source": [
    "agent_chain.invoke(\n",
    "    input=\"What game did Luka Doncic have the highest three pointers percentage in?\"\n",
    ")[\"output\"]"
   ]
  },
  {
   "cell_type": "code",
   "execution_count": null,
   "metadata": {},
   "outputs": [],
   "source": [
    "agent_chain.invoke(input=\"What was his three point percentage?\")[\"output\"]"
   ]
  },
  {
   "cell_type": "code",
   "execution_count": null,
   "metadata": {},
   "outputs": [],
   "source": [
    "agent_chain.invoke(input=\"Who did they play against?\")[\"output\"]"
   ]
  },
  {
   "cell_type": "code",
   "execution_count": null,
   "metadata": {},
   "outputs": [],
   "source": [
    "agent_chain.invoke(input=\"Are there any Dalas games on 2023-12-12?\")[\"output\"]"
   ]
  },
  {
   "cell_type": "code",
   "execution_count": null,
   "metadata": {},
   "outputs": [],
   "source": [
    "agent_chain.invoke(input=\"Make me a reservation for that game?\")[\"output\"]"
   ]
  },
  {
   "cell_type": "code",
   "execution_count": null,
   "metadata": {},
   "outputs": [],
   "source": [
    "agent_chain.invoke(input=\"When did Nikola Jokic start playing in the NBA?\")[\"output\"]"
   ]
  },
  {
   "cell_type": "code",
   "execution_count": null,
   "metadata": {},
   "outputs": [],
   "source": [
    "agent_chain.invoke(input=\"What was his best game in terms of three pointers percentage?\")[\"output\"]"
   ]
  },
  {
   "cell_type": "code",
   "execution_count": null,
   "metadata": {},
   "outputs": [],
   "source": [
    "agent_chain.invoke(input=\"Which teams played in that game?\")[\"output\"]"
   ]
  }
 ],
 "metadata": {
  "kernelspec": {
   "display_name": "env",
   "language": "python",
   "name": "python3"
  },
  "language_info": {
   "codemirror_mode": {
    "name": "ipython",
    "version": 3
   },
   "file_extension": ".py",
   "mimetype": "text/x-python",
   "name": "python",
   "nbconvert_exporter": "python",
   "pygments_lexer": "ipython3",
   "version": "3.9.6"
  }
 },
 "nbformat": 4,
 "nbformat_minor": 2
}
