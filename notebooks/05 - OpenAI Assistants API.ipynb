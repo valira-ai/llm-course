{
  "cells": [
    {
      "cell_type": "markdown",
      "metadata": {
        "id": "nb45h05cio83"
      },
      "source": [
        "# OpenAI Assistants API - RAG in ReAct\n",
        "\n",
        "Praktični del 5. delavnice v sklopu Akademije umetne inteligence za poslovne aplikacije.\n",
        "\n",
        "V tej beležki bomo uporabili OpenAI Assistants API za odgovarjanje na vprašanja o naših podatkih (RAG) ter za izvajanje naših funkcij (podobno kot ReAct cikel).\n",
        "\n",
        "OpenAI asistenti so podobni GPT-jem, ki smo jih spoznali zadnjič, le da tečejo v vaši aplikacija in komunicirajo z OpenAI-jem le prek API-ja (za razliko od GPT-jev, ki delujejo v ChatGPT aplikaciji). OpenAI asistenti imajo na voljo več orodji (ki jih izvajajo v ciklu podobnem ReAct-u):\n",
        "* File Search - lahko ga uporabljamo za RAG;\n",
        "* Code Intepreter (izvajanje kode, ki jo napiše ChatGPT);\n",
        "* lastna orodja (funkcije, ki jih spišemo sami in damo na voljo ChatGPT-ju).\n",
        "\n"
      ]
    },
    {
      "cell_type": "code",
      "execution_count": null,
      "metadata": {
        "id": "5oVTLZl0io85"
      },
      "outputs": [],
      "source": [
        "%%capture\n",
        "!pip install --upgrade openai"
      ]
    },
    {
      "cell_type": "code",
      "execution_count": null,
      "metadata": {
        "id": "fa0RynjTio86"
      },
      "outputs": [],
      "source": [
        "import openai"
      ]
    },
    {
      "cell_type": "markdown",
      "metadata": {
        "id": "vuMfyt87io87"
      },
      "source": [
        "## RAG"
      ]
    },
    {
      "cell_type": "markdown",
      "metadata": {
        "id": "jfKB8z-7io87"
      },
      "source": [
        "V tem delu beležke bomo s pomočjo RAG-a in OpenAI asistentov zgradili chatbot-a, ki lahko odgovarja na vprašanja o pralnem stroju."
      ]
    },
    {
      "cell_type": "code",
      "execution_count": null,
      "metadata": {
        "id": "pxBcHLlvio88"
      },
      "outputs": [],
      "source": [
        "client = openai.OpenAI(api_key=\"\")"
      ]
    },
    {
      "cell_type": "code",
      "execution_count": null,
      "metadata": {
        "id": "OMjDzqXWio89"
      },
      "outputs": [],
      "source": [
        "assistant = client.beta.assistants.create(\n",
        "  name=\"Washing Machine Expert\",\n",
        "  instructions=\"You are a Washing Machine Expert. You use the knowledge based with File Search to answer wachine machines related questions. Always consult the knowledge base before answering questions.Do not answer on your own. If the question is not about the knowledge base, tell the user that you can't help with that question.\",\n",
        "  model=\"gpt-3.5-turbo\",\n",
        "  tools=[{\"type\": \"file_search\"}],\n",
        ")"
      ]
    },
    {
      "cell_type": "markdown",
      "metadata": {
        "id": "WS6t3YjZio89"
      },
      "source": [
        "Naredimo vektorsko bazo:"
      ]
    },
    {
      "cell_type": "code",
      "execution_count": null,
      "metadata": {
        "id": "i21ymoqEio8-"
      },
      "outputs": [],
      "source": [
        "# vector_store = client.beta.vector_stores.create(name=\"Washing Machine Instructions\")\n",
        "\n",
        "# file_batch = client.beta.vector_stores.file_batches.upload_and_poll(\n",
        "#   vector_store_id=vector_store.id, files=[open(\"path-to-washing-machine-instructions-pdf\", \"rb\")]\n",
        "# )"
      ]
    },
    {
      "cell_type": "code",
      "execution_count": null,
      "metadata": {
        "id": "8TBjw2Qjio8_"
      },
      "outputs": [],
      "source": [
        "for vector_store in client.beta.vector_stores.list():\n",
        "    print(f\"{vector_store.name}: {vector_store.id}, {vector_store.file_counts}\")"
      ]
    },
    {
      "cell_type": "code",
      "execution_count": null,
      "metadata": {
        "id": "N1VROfNAio8_"
      },
      "outputs": [],
      "source": [
        "assistant = client.beta.assistants.update(\n",
        "  assistant_id=assistant.id,\n",
        "  tool_resources={\"file_search\": {\"vector_store_ids\": [\"vs_0PDzwY4ZsvwJRs0ORmoXVTAE\"]}},\n",
        ")"
      ]
    },
    {
      "cell_type": "markdown",
      "metadata": {
        "id": "20VW73gCio9A"
      },
      "source": [
        "Naredimo pomožno funkcijo, da bomo lažje klicali OpenAI Assistants API:"
      ]
    },
    {
      "cell_type": "code",
      "execution_count": null,
      "metadata": {
        "id": "RjW7yTwyio9A"
      },
      "outputs": [],
      "source": [
        "thread = None\n",
        "\n",
        "def ask_assistant(question: str) -> str:\n",
        "    global thread\n",
        "    if thread is None:\n",
        "        thread = client.beta.threads.create()\n",
        "\n",
        "    client.beta.threads.messages.create(\n",
        "        thread_id=thread.id,\n",
        "        role=\"user\",\n",
        "        content=question\n",
        "    )\n",
        "\n",
        "    run = client.beta.threads.runs.create_and_poll(\n",
        "        thread_id=thread.id, assistant_id=assistant.id\n",
        "    )\n",
        "\n",
        "    messages = list(client.beta.threads.messages.list(thread_id=thread.id, run_id=run.id))\n",
        "\n",
        "    message_content = messages[0].content[0].text\n",
        "    # unstable API...\n",
        "    if type(message_content) != dict:\n",
        "        return message_content.value\n",
        "\n",
        "    for i, annotation in enumerate(message_content[\"annotations\"]):\n",
        "        message_content[\"value\"] = message_content[\"value\"].replace(annotation[\"text\"], f\"[Ref. {i}]\")\n",
        "\n",
        "    return message_content[\"value\"]"
      ]
    },
    {
      "cell_type": "code",
      "execution_count": null,
      "metadata": {
        "id": "_RThgo-7io9B"
      },
      "outputs": [],
      "source": [
        "print(ask_assistant(\"My washing machine is not working, what can I do?\"))"
      ]
    },
    {
      "cell_type": "markdown",
      "metadata": {
        "id": "kNqg-LGbio9B"
      },
      "source": [
        "## Tool/function calling"
      ]
    },
    {
      "cell_type": "markdown",
      "metadata": {
        "id": "mi38x_04io9C"
      },
      "source": [
        "V tem delu beležke bomo s pomočjo OpenAI Assistant API-ja naredili chatbot-a, s katerim bomo lahko upravljali svoj TODO seznam."
      ]
    },
    {
      "cell_type": "code",
      "execution_count": null,
      "metadata": {
        "id": "_oUyR2L_io9C"
      },
      "outputs": [],
      "source": [
        "import json"
      ]
    },
    {
      "cell_type": "code",
      "execution_count": null,
      "metadata": {
        "id": "l8QrvS0Aio9C"
      },
      "outputs": [],
      "source": [
        "class TODOList:\n",
        "    def __init__(self):\n",
        "        self.tasks = set()\n",
        "\n",
        "    def add(self, task: str):\n",
        "        self.tasks.add(task)\n",
        "\n",
        "    def remove(self, task: str):\n",
        "        self.tasks.remove(task)\n",
        "\n",
        "    def __str__(self):\n",
        "        return \"TODO:\\n - \" + \"\\n - \".join(self.tasks)"
      ]
    },
    {
      "cell_type": "code",
      "execution_count": null,
      "metadata": {
        "id": "TzAvRHvxio9D"
      },
      "outputs": [],
      "source": [
        "todo_add_description = {\n",
        "    \"type\": \"function\",\n",
        "    \"function\": {\n",
        "        \"name\": \"todo_add\",\n",
        "        \"description\": \"Add a task to the user TODO list\",\n",
        "        \"parameters\": {\n",
        "            \"type\": \"object\",\n",
        "            \"properties\": {\n",
        "                \"task\": {\n",
        "                    \"type\": \"string\",\n",
        "                    \"description\": \"The task that the user wants to add to their TODO list, e.g., 'Buy milk'\"\n",
        "                }\n",
        "            },\n",
        "            \"required\": [\"task\"]\n",
        "        }\n",
        "    }\n",
        "}\n",
        "\n",
        "\n",
        "todo_remove_description = {\n",
        "    \"type\": \"function\",\n",
        "    \"function\": {\n",
        "        \"name\": \"todo_remove\",\n",
        "        \"description\": \"Remove a task from the user TODO list, if user wants to remove it or has already completed it\",\n",
        "        \"parameters\": {\n",
        "            \"type\": \"object\",\n",
        "            \"properties\": {\n",
        "                \"task\": {\n",
        "                    \"type\": \"string\",\n",
        "                    \"description\": \"The task that the user wants to remove from their TODO list, make sure that it's exactly the same as the task on the list. If you are not sure, check the list first.\"\n",
        "                }\n",
        "            },\n",
        "            \"required\": [\"task\"]\n",
        "        }\n",
        "    }\n",
        "}\n",
        "\n",
        "\n",
        "todo_get_description = {\n",
        "    \"type\": \"function\",\n",
        "    \"function\": {\n",
        "        \"name\": \"todo_get\",\n",
        "        \"description\": \"Get a string of user TODO list with all the tasks.\"\n",
        "    }\n",
        "}"
      ]
    },
    {
      "cell_type": "code",
      "execution_count": null,
      "metadata": {
        "id": "hf96zyfjio9D"
      },
      "outputs": [],
      "source": [
        "assistant = client.beta.assistants.create(\n",
        "  name=\"TODO List Assistant\",\n",
        "  instructions=\"You are a TODO List Assistant. Use the provided functions to manage a user's TODO list.\",\n",
        "  model=\"gpt-3.5-turbo\",\n",
        "  tools=[todo_add_description, todo_remove_description, todo_get_description]\n",
        ")"
      ]
    },
    {
      "cell_type": "code",
      "execution_count": null,
      "metadata": {
        "id": "alWZ0Wsuio9F"
      },
      "outputs": [],
      "source": [
        "todo_list = TODOList()\n",
        "thread = None\n",
        "\n",
        "def ask_assistant(question: str) -> str:\n",
        "    global thread\n",
        "    if thread is None:\n",
        "        thread = client.beta.threads.create()\n",
        "\n",
        "    client.beta.threads.messages.create(\n",
        "        thread_id=thread.id,\n",
        "        role=\"user\",\n",
        "        content=question\n",
        "    )\n",
        "\n",
        "    run = client.beta.threads.runs.create_and_poll(\n",
        "        thread_id=thread.id, assistant_id=assistant.id\n",
        "    )\n",
        "\n",
        "    # using the tools\n",
        "    while run.required_action is not None:\n",
        "        tool_outputs = []\n",
        "\n",
        "        for tool in run.required_action.submit_tool_outputs.tool_calls:\n",
        "            print(f\"Using tool: {tool.function.name}\")\n",
        "            output = \"\"\n",
        "            if tool.function.name == \"todo_add\":\n",
        "                try:\n",
        "                    todo_list.add(**json.loads(tool.function.arguments))\n",
        "                    output = \"Successfully added\"\n",
        "                except Exception as e:\n",
        "                    output = str(e)\n",
        "\n",
        "            elif tool.function.name == \"todo_remove\":\n",
        "                try:\n",
        "                    todo_list.remove(**json.loads(tool.function.arguments))\n",
        "                    output = \"Successfully removed\"\n",
        "                except Exception as e:\n",
        "                    output = str(e)\n",
        "\n",
        "            elif tool.function.name == \"todo_get\":\n",
        "                try:\n",
        "                    output = str(todo_list)\n",
        "                except Exception as e:\n",
        "                    output = str(e)\n",
        "\n",
        "            tool_outputs.append({\"tool_call_id\": tool.id, \"output\": output})\n",
        "\n",
        "        # try submitting tool outputs\n",
        "        if tool_outputs:\n",
        "            try:\n",
        "                run = client.beta.threads.runs.submit_tool_outputs_and_poll(\n",
        "                thread_id=thread.id,\n",
        "                run_id=run.id,\n",
        "                tool_outputs=tool_outputs\n",
        "                )\n",
        "            except Exception as e:\n",
        "                print(\"Failed to submit tool outputs:\", e)\n",
        "            else:\n",
        "                print(\"No tool outputs to submit.\")\n",
        "\n",
        "    print(\"--------------------\")\n",
        "    if run.status == \"completed\":\n",
        "        messages = client.beta.threads.messages.list(thread_id=thread.id)\n",
        "        print(messages.data[0].content[0].text.value)\n",
        "    else:\n",
        "        print(run.status)"
      ]
    },
    {
      "cell_type": "code",
      "execution_count": null,
      "metadata": {
        "id": "MQ16_hZ3io9G"
      },
      "outputs": [],
      "source": [
        "ask_assistant(\"Do I have anything on my TODO?\")"
      ]
    },
    {
      "cell_type": "code",
      "execution_count": null,
      "metadata": {
        "id": "8SX5IaXNio9G"
      },
      "outputs": [],
      "source": [
        "ask_assistant(\"Add buying milk to my TODO?\")"
      ]
    },
    {
      "cell_type": "code",
      "execution_count": null,
      "metadata": {
        "id": "9lZ20UW7io9G"
      },
      "outputs": [],
      "source": [
        "print(todo_list)"
      ]
    },
    {
      "cell_type": "code",
      "execution_count": null,
      "metadata": {
        "id": "pDfgin6sio9H"
      },
      "outputs": [],
      "source": [
        "ask_assistant(\"What's on my TODO list?\")"
      ]
    },
    {
      "cell_type": "code",
      "execution_count": null,
      "metadata": {
        "id": "0FLXhsVqio9H"
      },
      "outputs": [],
      "source": [
        "ask_assistant(\"I have bought the milk.\")"
      ]
    }
  ],
  "metadata": {
    "kernelspec": {
      "display_name": ".venv",
      "language": "python",
      "name": "python3"
    },
    "language_info": {
      "codemirror_mode": {
        "name": "ipython",
        "version": 3
      },
      "file_extension": ".py",
      "mimetype": "text/x-python",
      "name": "python",
      "nbconvert_exporter": "python",
      "pygments_lexer": "ipython3",
      "version": "3.10.13"
    },
    "colab": {
      "provenance": []
    }
  },
  "nbformat": 4,
  "nbformat_minor": 0
}