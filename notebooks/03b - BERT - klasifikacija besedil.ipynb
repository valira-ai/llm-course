{
  "nbformat": 4,
  "nbformat_minor": 0,
  "metadata": {
    "colab": {
      "provenance": []
    },
    "kernelspec": {
      "name": "python3",
      "display_name": "Python 3"
    },
    "language_info": {
      "name": "python"
    }
  },
  "cells": [
    {
      "cell_type": "markdown",
      "source": [
        "## Sodobna obdelava naravnega jezika: BERT prek praktičnih primerov"
      ],
      "metadata": {
        "id": "5hUg1deI4rnP"
      }
    },
    {
      "cell_type": "markdown",
      "source": [
        "## Klasifikacija besedil\n",
        "\n",
        "Praktični del 3. delavnice v sklopu Akademije umetne inteligence za poslovne aplikacije.\n",
        "\n",
        "V tej beležki se bomo naučili uporabiti *BERT-a* oziroma podobne modele za klasifikacijo besedil. Ukvarjali se bomo z analizo sentimenta - kritike filmov z IMDB-ja bomo klasificirali kot pozitivne oz. negativne."
      ],
      "metadata": {
        "id": "BzaqROXG4sq7"
      }
    },
    {
      "cell_type": "markdown",
      "source": [
        "# Najprej si uredimo dostop do GPU-ja v tej Colab seji:\n",
        "- `Edit -> Notebook settings -> Hardware accelerator` mora biti nastavljen na enega izmed GPU-jev.\n",
        "- po potrebi se ponovno poveženo z gumbom `Connect` v desnem zgornjem kotu."
      ],
      "metadata": {
        "id": "AtqdB4Ru5sBb"
      }
    },
    {
      "cell_type": "code",
      "execution_count": null,
      "metadata": {
        "id": "1GnxPKIF4VZr"
      },
      "outputs": [],
      "source": [
        "!nvidia-smi"
      ]
    },
    {
      "cell_type": "code",
      "source": [
        "%%capture\n",
        "!pip install datasets evaluate transformers[torch]"
      ],
      "metadata": {
        "id": "a82vPvfL57Qp"
      },
      "execution_count": null,
      "outputs": []
    },
    {
      "cell_type": "code",
      "source": [
        "from datasets import load_dataset\n",
        "from transformers import (\n",
        "    AutoModelForSequenceClassification,\n",
        "    AutoTokenizer,\n",
        "    DataCollatorWithPadding,\n",
        "    TrainingArguments,\n",
        "    Trainer\n",
        ")"
      ],
      "metadata": {
        "id": "HURV5dAU6Cqd"
      },
      "execution_count": null,
      "outputs": []
    },
    {
      "cell_type": "markdown",
      "source": [
        "Prenesimo podatke in poglejmo nekaj primerov:"
      ],
      "metadata": {
        "id": "gAEcMbD46Gbs"
      }
    },
    {
      "cell_type": "code",
      "source": [
        "imdb = load_dataset(\"imdb\")"
      ],
      "metadata": {
        "id": "JTEiAs6F6A01"
      },
      "execution_count": null,
      "outputs": []
    },
    {
      "cell_type": "code",
      "source": [
        "imdb"
      ],
      "metadata": {
        "id": "yCEgGU1U673D"
      },
      "execution_count": null,
      "outputs": []
    },
    {
      "cell_type": "code",
      "source": [
        "label_list = set(imdb[\"train\"][\"label\"])\n",
        "print(label_list)"
      ],
      "metadata": {
        "id": "WPiCdjne8NSy"
      },
      "execution_count": null,
      "outputs": []
    },
    {
      "cell_type": "code",
      "source": [
        "imdb[\"train\"][0]"
      ],
      "metadata": {
        "id": "RY_8U0zV69jl"
      },
      "execution_count": null,
      "outputs": []
    },
    {
      "cell_type": "code",
      "source": [
        "imdb[\"train\"][-1]"
      ],
      "metadata": {
        "id": "gl-4N4AQ7NgZ"
      },
      "execution_count": null,
      "outputs": []
    },
    {
      "cell_type": "markdown",
      "source": [
        "Naš cilj v tej beležki je \"finetunanje\" (dodatno učenje) že obstoječega BERT modela, da bo klasificiral neko filmsko kritiko kot pozitivno ali negativno."
      ],
      "metadata": {
        "id": "kVE87Pdb8Hvt"
      }
    },
    {
      "cell_type": "markdown",
      "source": [
        "#### Priprava podatkov"
      ],
      "metadata": {
        "id": "PKIYkBtX_niZ"
      }
    },
    {
      "cell_type": "code",
      "source": [
        "tokenizer = AutoTokenizer.from_pretrained(\"distilbert/distilbert-base-uncased\", model_max_length=256)"
      ],
      "metadata": {
        "id": "RrQqsIJ18IFB"
      },
      "execution_count": null,
      "outputs": []
    },
    {
      "cell_type": "code",
      "source": [
        "def tokenize(rows):\n",
        "    return tokenizer(rows[\"text\"], max_length=256, truncation=True)\n",
        "\n",
        "imdb_train = imdb[\"train\"].map(tokenize, batched=True)\n",
        "imdb_test = imdb[\"test\"].map(tokenize, batched=True)"
      ],
      "metadata": {
        "id": "36DY16j1AbKJ"
      },
      "execution_count": null,
      "outputs": []
    },
    {
      "cell_type": "code",
      "source": [
        "imdb_train[0]"
      ],
      "metadata": {
        "id": "IVE6ciufAyua"
      },
      "execution_count": null,
      "outputs": []
    },
    {
      "cell_type": "markdown",
      "source": [
        "#### Model"
      ],
      "metadata": {
        "id": "arzz2H38BAbr"
      }
    },
    {
      "cell_type": "code",
      "source": [
        "model = AutoModelForSequenceClassification.from_pretrained(\n",
        "    \"distilbert/distilbert-base-uncased\",\n",
        "    num_labels=2,\n",
        "    id2label={0: \"negative\", 1: \"positive\"},\n",
        "    label2id={\"negative\": 0, \"positive\": 1}\n",
        ")"
      ],
      "metadata": {
        "id": "Gt4bm3EA9Eqf"
      },
      "execution_count": null,
      "outputs": []
    },
    {
      "cell_type": "markdown",
      "source": [
        "#### Učenje"
      ],
      "metadata": {
        "id": "LlKOnSGKBCWi"
      }
    },
    {
      "cell_type": "code",
      "source": [
        "training_args = TrainingArguments(\n",
        "    output_dir=\"/content/\",\n",
        "    learning_rate=3e-5,\n",
        "    per_device_train_batch_size=32,\n",
        "    per_device_eval_batch_size=64,\n",
        "    num_train_epochs=2,\n",
        "    weight_decay=0.01,\n",
        "    evaluation_strategy=\"epoch\",\n",
        "    save_strategy=\"epoch\",\n",
        "    load_best_model_at_end=True,\n",
        ")"
      ],
      "metadata": {
        "id": "PJ-BQq7a9PfY"
      },
      "execution_count": null,
      "outputs": []
    },
    {
      "cell_type": "code",
      "source": [
        "trainer = Trainer(\n",
        "    model=model.cuda(),\n",
        "    args=training_args,\n",
        "    train_dataset=imdb_train,\n",
        "    eval_dataset=imdb_test,\n",
        "    tokenizer=tokenizer,\n",
        "    data_collator=DataCollatorWithPadding(tokenizer=tokenizer),\n",
        ")"
      ],
      "metadata": {
        "id": "AJ5nmnn29RBr"
      },
      "execution_count": null,
      "outputs": []
    },
    {
      "cell_type": "code",
      "source": [
        "trainer.train()"
      ],
      "metadata": {
        "id": "UUfWuRNo9SEd"
      },
      "execution_count": null,
      "outputs": []
    },
    {
      "cell_type": "markdown",
      "source": [
        "#### Evalvarijamo naučen model"
      ],
      "metadata": {
        "id": "bbcLE61-LXZM"
      }
    },
    {
      "cell_type": "code",
      "source": [
        "from evaluate import evaluator\n",
        "from transformers import AutoModelForSequenceClassification, pipeline"
      ],
      "metadata": {
        "id": "eCnnNS_YLbXo"
      },
      "execution_count": null,
      "outputs": []
    },
    {
      "cell_type": "code",
      "source": [
        "!mkdir /content/bert-imdb\n",
        "!gdown -O /content/bert-imdb/config.json https://drive.google.com/uc?id=1S-M9cDLYPi4tglFgrgYrpql9MQ1Y1v8Y\n",
        "!gdown -O /content/bert-imdb/model.safetensors https://drive.google.com/uc?id=1OFUyFQ7vNa8dyzadfUmcDZOEpmBMjZuy"
      ],
      "metadata": {
        "id": "u9u-3_fNMH_u"
      },
      "execution_count": null,
      "outputs": []
    },
    {
      "cell_type": "code",
      "source": [
        "model = AutoModelForSequenceClassification.from_pretrained(\n",
        "    \"/content/bert-imdb\",\n",
        "    num_labels=2,\n",
        "    id2label={0: \"negative\", 1: \"positive\"},\n",
        "    label2id={\"negative\": 0, \"positive\": 1},\n",
        ")"
      ],
      "metadata": {
        "id": "kIFc4-PWMvpf"
      },
      "execution_count": null,
      "outputs": []
    },
    {
      "cell_type": "code",
      "source": [
        "task_evaluator = evaluator(\"text-classification\")"
      ],
      "metadata": {
        "id": "4WbAW9nvLpTW"
      },
      "execution_count": null,
      "outputs": []
    },
    {
      "cell_type": "code",
      "source": [
        "eval_results = task_evaluator.compute(\n",
        "    model_or_pipeline=model.cuda(),\n",
        "    tokenizer=tokenizer,\n",
        "    data=imdb_test.shuffle(seed=42).select(range(1000)),\n",
        "    label_mapping={\"negative\": 0, \"positive\": 1}\n",
        ")"
      ],
      "metadata": {
        "id": "xoFWNosnOJtT"
      },
      "execution_count": null,
      "outputs": []
    },
    {
      "cell_type": "code",
      "source": [
        "eval_results"
      ],
      "metadata": {
        "id": "LaRTNhhvQplG"
      },
      "execution_count": null,
      "outputs": []
    },
    {
      "cell_type": "markdown",
      "source": [
        "#### Eksperimentirajmo"
      ],
      "metadata": {
        "id": "a7CBftDSPRGT"
      }
    },
    {
      "cell_type": "code",
      "source": [
        "imdb_pipeline = pipeline(\"text-classification\", model=model, tokenizer=tokenizer)"
      ],
      "metadata": {
        "id": "yhwchA5KSqHz"
      },
      "execution_count": null,
      "outputs": []
    },
    {
      "cell_type": "code",
      "source": [
        "imdb_pipeline(\"This movie is good!\")"
      ],
      "metadata": {
        "id": "scLdz2RxOFNj"
      },
      "execution_count": null,
      "outputs": []
    },
    {
      "cell_type": "code",
      "source": [
        "imdb_pipeline(\"This movie is bad!\")"
      ],
      "metadata": {
        "id": "jJLZTMvOPUsn"
      },
      "execution_count": null,
      "outputs": []
    },
    {
      "cell_type": "markdown",
      "source": [
        "Ali lahko za to uporabimo tudi ChatGPT?"
      ],
      "metadata": {
        "id": "1oNPnAFXeYCL"
      }
    },
    {
      "cell_type": "code",
      "source": [
        "%%capture\n",
        "!pip install -q openai"
      ],
      "metadata": {
        "id": "_i7GFvKZeagb"
      },
      "execution_count": null,
      "outputs": []
    },
    {
      "cell_type": "code",
      "source": [
        "import openai\n",
        "import requests"
      ],
      "metadata": {
        "id": "Q50eIAB4eb5t"
      },
      "execution_count": null,
      "outputs": []
    },
    {
      "cell_type": "code",
      "source": [
        "openai.api_key = \"\""
      ],
      "metadata": {
        "id": "0mgRGowCedbV"
      },
      "execution_count": null,
      "outputs": []
    },
    {
      "cell_type": "code",
      "source": [
        "def call_model(msg: str, temperature: float = 1., top_p: float = 1., model: str = \"gpt-3.5-turbo\", system: str = None):\n",
        "    URL = \"https://api.openai.com/v1/chat/completions\"\n",
        "\n",
        "    messages = [{\"role\": \"user\", \"content\": msg}] if system is None else [{\"role\": \"system\", \"content\": system}, {\"role\": \"user\", \"content\": msg}]\n",
        "\n",
        "    payload = {\n",
        "      \"model\": model,\n",
        "      \"messages\": messages,\n",
        "      \"temperature\" : temperature,\n",
        "      \"top_p\":top_p,\n",
        "    }\n",
        "\n",
        "    headers = {\n",
        "      \"Content-Type\": \"application/json\",\n",
        "      \"Authorization\": f\"Bearer {openai.api_key}\"\n",
        "    }\n",
        "\n",
        "    response = requests.post(URL, headers=headers, json=payload, stream=False)\n",
        "    return response.json()['choices'][0]['message']['content'].strip()"
      ],
      "metadata": {
        "id": "21rT4NITeioc"
      },
      "execution_count": null,
      "outputs": []
    },
    {
      "cell_type": "code",
      "source": [
        "call_model(\"What's the capital of Slovenia?\")"
      ],
      "metadata": {
        "id": "RkvnnzfHffXV"
      },
      "execution_count": null,
      "outputs": []
    },
    {
      "cell_type": "markdown",
      "source": [
        "Poskusite klasificirat nekaj primerov z uporabo ChatGPT-ja in primerjajte rezultate z BERT-om."
      ],
      "metadata": {
        "id": "9xBBxLl3fwF-"
      }
    }
  ]
}