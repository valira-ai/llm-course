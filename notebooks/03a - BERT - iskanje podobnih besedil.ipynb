{
  "nbformat": 4,
  "nbformat_minor": 0,
  "metadata": {
    "colab": {
      "provenance": [],
      "gpuType": "T4"
    },
    "kernelspec": {
      "name": "python3",
      "display_name": "Python 3"
    },
    "language_info": {
      "name": "python"
    },
    "accelerator": "GPU"
  },
  "cells": [
    {
      "cell_type": "markdown",
      "source": [
        "## Sodobna obdelava naravnega jezika: BERT prek praktičnih primerov"
      ],
      "metadata": {
        "id": "_GyLanlljrNe"
      }
    },
    {
      "cell_type": "markdown",
      "source": [
        "## Iskanje podobnih besedil\n",
        "\n",
        "Praktični del 3. delavnice v sklopu Akademije umetne inteligence za poslovne aplikacije.\n",
        "\n",
        "V tej beležki bomo spoznali *tf-idf* in modele za vektorske vložitve, kot je *BERT*. S temi pristopi bomo zgradili predstavitve besedil, s pomočjo katerih bomo iskali filme glede na uporabnikovo poizvedbo.\n"
      ],
      "metadata": {
        "id": "pBr9GHAgjwwG"
      }
    },
    {
      "cell_type": "markdown",
      "source": [
        "## TF-IDF"
      ],
      "metadata": {
        "id": "-CQUSor8kcVh"
      }
    },
    {
      "cell_type": "code",
      "execution_count": null,
      "metadata": {
        "id": "ZWLKkg-_HhtQ"
      },
      "outputs": [],
      "source": [
        "from sklearn.feature_extraction.text import TfidfVectorizer\n",
        "from sklearn.metrics.pairwise import cosine_similarity"
      ]
    },
    {
      "cell_type": "markdown",
      "source": [
        "#### Primer s prosojnic:"
      ],
      "metadata": {
        "id": "1cE9aji3lE5h"
      }
    },
    {
      "cell_type": "code",
      "source": [
        "texts = [\n",
        "    \"Kje leži mačka?\",\n",
        "    \"Mačka leži na preprogi.\",\n",
        "    \"V gozdu se nahaja medved.\"\n",
        "]"
      ],
      "metadata": {
        "id": "3VTylWaGICie"
      },
      "execution_count": null,
      "outputs": []
    },
    {
      "cell_type": "code",
      "source": [
        "vectorizer = TfidfVectorizer()"
      ],
      "metadata": {
        "id": "Gx2wJiKtIe3U"
      },
      "execution_count": null,
      "outputs": []
    },
    {
      "cell_type": "markdown",
      "source": [
        "Izgradnja predstavitev za tri stavke iz primera:"
      ],
      "metadata": {
        "id": "oJfDZFgplJ0d"
      }
    },
    {
      "cell_type": "code",
      "source": [
        "representations = vectorizer.fit_transform(texts)"
      ],
      "metadata": {
        "id": "2H0jJQIXIhFJ"
      },
      "execution_count": null,
      "outputs": []
    },
    {
      "cell_type": "markdown",
      "source": [
        "Seznam besed, ki so značilke v našem tf-idf pristopu:"
      ],
      "metadata": {
        "id": "Wi30OQETlVEw"
      }
    },
    {
      "cell_type": "code",
      "source": [
        "vectorizer.get_feature_names_out().tolist()"
      ],
      "metadata": {
        "id": "CyIo5hLQInYX"
      },
      "execution_count": null,
      "outputs": []
    },
    {
      "cell_type": "markdown",
      "source": [
        "Za vsakega od treh stavkov v našem primeru lahko izpišemo njegovo tf-idf predstavitev v obliki vektorja:"
      ],
      "metadata": {
        "id": "Fy0Pm-sileBE"
      }
    },
    {
      "cell_type": "code",
      "source": [
        "print(\" \" * 40 + \" \".join([f\"{word:<10}\" for word in vectorizer.get_feature_names_out()]))\n",
        "\n",
        "for i, row in enumerate(representations.toarray()):\n",
        "    print(f\"{texts[i]:<40}\" + \" \".join([f\"{value:<10.2f}\" for value in row]))"
      ],
      "metadata": {
        "id": "Mi4Inb32KVRP"
      },
      "execution_count": null,
      "outputs": []
    },
    {
      "cell_type": "markdown",
      "source": [
        "S pomočjo kosinusne podobnosti lahko pogledamo, kako podobni so si med sabo stavki v našem primeru.\n",
        "\n",
        "Opazimo:\n",
        "- da ima stavek sam s seboj podobnost 1,\n",
        "- da je podobnost med stavkoma \"Kje leži mačka\" ter \"Mačka leži na preprogi.\" enaka 0.44,\n",
        "- da je podobnost med stavkoma \"Kje leži mačka\" ter \"V gozdu se nahaja medved.\" enaka 0."
      ],
      "metadata": {
        "id": "SY7ZEZJFlocG"
      }
    },
    {
      "cell_type": "code",
      "source": [
        "print(\" \" * 30 + \" \".join([f\"{text:<30}\" for text in texts]))\n",
        "\n",
        "for i, row in enumerate(cosine_similarity(representations, representations)):\n",
        "    print(f\"{texts[i]:<30}\" + \" \".join([f\"{value:<30.2f}\" for value in row]))"
      ],
      "metadata": {
        "id": "vbSt3PfkLH3i"
      },
      "execution_count": null,
      "outputs": []
    },
    {
      "cell_type": "markdown",
      "source": [
        "#### Iskanje podobnih filmov"
      ],
      "metadata": {
        "id": "8_lmXNfBmYcy"
      }
    },
    {
      "cell_type": "code",
      "source": [
        "from typing import List, Tuple\n",
        "\n",
        "import numpy as np\n",
        "import pandas as pd\n",
        "\n",
        "from sklearn.feature_extraction.text import TfidfVectorizer\n",
        "from sklearn.metrics.pairwise import cosine_similarity"
      ],
      "metadata": {
        "id": "OqEzgA6vniY5"
      },
      "execution_count": null,
      "outputs": []
    },
    {
      "cell_type": "markdown",
      "source": [
        "Preberemo podatke o filmih:"
      ],
      "metadata": {
        "id": "kMaRCNm-nMTJ"
      }
    },
    {
      "cell_type": "code",
      "source": [
        "path_to_train_csv = \"https://raw.githubusercontent.com/valira-ai/llm-course/main/data/movies.csv\"\n",
        "\n",
        "df = pd.read_csv(path_to_train_csv)"
      ],
      "metadata": {
        "id": "hwCdpFd8mfNa"
      },
      "execution_count": null,
      "outputs": []
    },
    {
      "cell_type": "code",
      "source": [
        "len(df)"
      ],
      "metadata": {
        "id": "GH9gabYJnZ65"
      },
      "execution_count": null,
      "outputs": []
    },
    {
      "cell_type": "code",
      "source": [
        "df.head()"
      ],
      "metadata": {
        "id": "zn2fXspQmmVS"
      },
      "execution_count": null,
      "outputs": []
    },
    {
      "cell_type": "code",
      "source": [
        "titles = df[\"title\"].to_numpy()\n",
        "descriptions = df[\"description\"].to_numpy()"
      ],
      "metadata": {
        "id": "xRNnl1AhnUdR"
      },
      "execution_count": null,
      "outputs": []
    },
    {
      "cell_type": "markdown",
      "source": [
        "Izračunajmo predstavitve:"
      ],
      "metadata": {
        "id": "O3FzXx25ntTa"
      }
    },
    {
      "cell_type": "code",
      "source": [
        "vectorizer = TfidfVectorizer(max_features=10000)\n",
        "representations = vectorizer.fit_transform(descriptions)"
      ],
      "metadata": {
        "id": "0yV3VveCnq5N"
      },
      "execution_count": null,
      "outputs": []
    },
    {
      "cell_type": "code",
      "source": [
        "representations.shape"
      ],
      "metadata": {
        "id": "9BmldESxnxPk"
      },
      "execution_count": null,
      "outputs": []
    },
    {
      "cell_type": "markdown",
      "source": [
        "Iskanje podobnih filmov:"
      ],
      "metadata": {
        "id": "9D9RVMN_nz6L"
      }
    },
    {
      "cell_type": "code",
      "source": [
        "def get_similar_movies_tfidf(movie_title: str, n: int = 10) -> List[Tuple[str, float]]:\n",
        "    movie_idxs = np.where(titles == movie_title)[0]\n",
        "    if len(movie_idxs) == 0:\n",
        "        raise ValueError(\"Movie not found\")\n",
        "\n",
        "    similarity_scores = cosine_similarity(representations[movie_idxs[0]], representations).flatten()\n",
        "    related_movie_indices = similarity_scores.argsort()[-n-1:-1]\n",
        "    return [(titles[i], similarity_scores[i]) for i in reversed(related_movie_indices)]"
      ],
      "metadata": {
        "id": "nZuxczZPn4_I"
      },
      "execution_count": null,
      "outputs": []
    },
    {
      "cell_type": "code",
      "source": [
        "titles"
      ],
      "metadata": {
        "id": "_NoprocZoFKi"
      },
      "execution_count": null,
      "outputs": []
    },
    {
      "cell_type": "code",
      "source": [
        "get_similar_movies_tfidf(\"Toy Story\")"
      ],
      "metadata": {
        "id": "YJWUSfcvoJcc"
      },
      "execution_count": null,
      "outputs": []
    },
    {
      "cell_type": "markdown",
      "source": [
        "Iskanje filmov s poizvedbo:"
      ],
      "metadata": {
        "id": "iqC8Reo4oRJX"
      }
    },
    {
      "cell_type": "code",
      "source": [
        "def find_movies_by_query_tfidf(query: str, n: int = 10) -> List[Tuple[str, float]]:\n",
        "    query_tfidf = vectorizer.transform([query])\n",
        "    similarity_scores = cosine_similarity(query_tfidf, representations).flatten()\n",
        "    related_movie_indices = similarity_scores.argsort()[-n:][::-1]\n",
        "\n",
        "    return [(titles[i], similarity_scores[i]) for i in related_movie_indices]"
      ],
      "metadata": {
        "id": "2FzYrtntoQE_"
      },
      "execution_count": null,
      "outputs": []
    },
    {
      "cell_type": "code",
      "source": [
        "find_movies_by_query_tfidf(\"Some kid fights off the burglars in his house on Christmas after family leaves him behind.\")"
      ],
      "metadata": {
        "id": "i55FY0q8oc_V"
      },
      "execution_count": null,
      "outputs": []
    },
    {
      "cell_type": "markdown",
      "source": [
        "## BERT (or BERT-like models)"
      ],
      "metadata": {
        "id": "oAfgNtYnonR2"
      }
    },
    {
      "cell_type": "markdown",
      "source": [
        "Najprej si uredimo dostop do GPU-ja v tej Colab seji:\n",
        "- `Edit -> Notebook settings -> Hardware accelerator` mora biti nastavljen na enega izmed GPU-jev.\n",
        "- po potrebi se ponovno poveženo z gumbom `Connect` v desnem zgornjem kotu."
      ],
      "metadata": {
        "id": "-faC_rFP5Oh-"
      }
    },
    {
      "cell_type": "code",
      "source": [
        "!nvidia-smi"
      ],
      "metadata": {
        "id": "7hVHOfyAp8pM"
      },
      "execution_count": null,
      "outputs": []
    },
    {
      "cell_type": "code",
      "source": [
        "%%capture\n",
        "!pip install -U sentence-transformers"
      ],
      "metadata": {
        "id": "6yVrhJy_paNn"
      },
      "execution_count": null,
      "outputs": []
    },
    {
      "cell_type": "code",
      "source": [
        "from typing import List, Tuple\n",
        "\n",
        "import numpy as np\n",
        "import pandas as pd\n",
        "\n",
        "from sentence_transformers import SentenceTransformer\n",
        "from sklearn.metrics.pairwise import cosine_similarity"
      ],
      "metadata": {
        "id": "26UhrEgdopQB"
      },
      "execution_count": null,
      "outputs": []
    },
    {
      "cell_type": "code",
      "source": [
        "model = SentenceTransformer('sentence-transformers/all-MiniLM-L6-v2')"
      ],
      "metadata": {
        "id": "kwHk14Ypqy_l"
      },
      "execution_count": null,
      "outputs": []
    },
    {
      "cell_type": "code",
      "source": [
        "texts = [\n",
        "    \"Kje leži mačka?\",\n",
        "    \"Mačka leži na preprogi.\",\n",
        "    \"V gozdu se nahaja medved.\"\n",
        "]"
      ],
      "metadata": {
        "id": "ywb2v4VNp61z"
      },
      "execution_count": null,
      "outputs": []
    },
    {
      "cell_type": "code",
      "source": [
        "embeddings = model.encode(texts)"
      ],
      "metadata": {
        "id": "sU5W3h8qqsZY"
      },
      "execution_count": null,
      "outputs": []
    },
    {
      "cell_type": "code",
      "source": [
        "embeddings.shape"
      ],
      "metadata": {
        "id": "tl-wyVhwq5Jt"
      },
      "execution_count": null,
      "outputs": []
    },
    {
      "cell_type": "code",
      "source": [
        "print(\" \" * 30 + \" \".join([f\"{text:<30}\" for text in texts]))\n",
        "\n",
        "for i, row in enumerate(cosine_similarity(embeddings, embeddings)):\n",
        "    print(f\"{texts[i]:<30}\" + \" \".join([f\"{value:<30.2f}\" for value in row]))"
      ],
      "metadata": {
        "id": "cx8XpmKYrV_q"
      },
      "execution_count": null,
      "outputs": []
    },
    {
      "cell_type": "markdown",
      "source": [
        "Podobnost opisov filmov:"
      ],
      "metadata": {
        "id": "SZ6eYyT9ra1z"
      }
    },
    {
      "cell_type": "code",
      "source": [
        "path_to_train_csv = \"https://raw.githubusercontent.com/valira-ai/llm-course/main/data/movies.csv\"\n",
        "\n",
        "df = pd.read_csv(path_to_train_csv)"
      ],
      "metadata": {
        "id": "tL1xEKkXuNPn"
      },
      "execution_count": null,
      "outputs": []
    },
    {
      "cell_type": "code",
      "source": [
        "titles = df[\"title\"].to_numpy()\n",
        "descriptions = df[\"description\"].to_numpy()"
      ],
      "metadata": {
        "id": "ON_XyWuWu66I"
      },
      "execution_count": null,
      "outputs": []
    },
    {
      "cell_type": "code",
      "source": [
        "embeddings = model.encode(descriptions, batch_size=128, show_progress_bar=True)"
      ],
      "metadata": {
        "id": "BMKVyBv1u9_8"
      },
      "execution_count": null,
      "outputs": []
    },
    {
      "cell_type": "code",
      "source": [
        "embeddings.shape"
      ],
      "metadata": {
        "id": "b99ZIyCdveX5"
      },
      "execution_count": null,
      "outputs": []
    },
    {
      "cell_type": "code",
      "source": [
        "def get_similar_movies_bert(movie_title: str, n: int = 10) -> List[Tuple[str, float]]:\n",
        "    movie_idxs = np.where(titles == movie_title)[0]\n",
        "    if len(movie_idxs) == 0:\n",
        "        raise ValueError(\"Movie not found\")\n",
        "\n",
        "    similarity_scores = cosine_similarity([embeddings[movie_idxs[0]]], embeddings).flatten()\n",
        "    related_movie_indices = similarity_scores.argsort()[-n-1:-1]\n",
        "    return [(titles[i], similarity_scores[i]) for i in reversed(related_movie_indices)]"
      ],
      "metadata": {
        "id": "xE_fNiAvvjV_"
      },
      "execution_count": null,
      "outputs": []
    },
    {
      "cell_type": "code",
      "source": [
        "get_similar_movies_bert(\"Toy Story\")"
      ],
      "metadata": {
        "id": "vgc3SJbpvqfd"
      },
      "execution_count": null,
      "outputs": []
    },
    {
      "cell_type": "code",
      "source": [
        "def find_movies_by_query_bert(query: str, n: int = 10) -> List[Tuple[str, float]]:\n",
        "    similarity_scores = cosine_similarity(model.encode([query]), embeddings).flatten()\n",
        "    related_movie_indices = similarity_scores.argsort()[-n:][::-1]\n",
        "\n",
        "    return [(titles[i], similarity_scores[i]) for i in related_movie_indices]"
      ],
      "metadata": {
        "id": "L_rzef0Uv11g"
      },
      "execution_count": null,
      "outputs": []
    },
    {
      "cell_type": "code",
      "source": [
        "find_movies_by_query_bert(\"Some kid fights off the burglars in his house on Christmas after family leaves him behind.\")"
      ],
      "metadata": {
        "id": "PwE8AabZv7ws"
      },
      "execution_count": null,
      "outputs": []
    },
    {
      "cell_type": "markdown",
      "source": [
        "## Eksperimentiraj"
      ],
      "metadata": {
        "id": "XX18KxyEws0-"
      }
    },
    {
      "cell_type": "code",
      "source": [
        "%%capture\n",
        "!pip install datasets"
      ],
      "metadata": {
        "id": "0tsAlf91w3_y"
      },
      "execution_count": null,
      "outputs": []
    },
    {
      "cell_type": "code",
      "source": [
        "from typing import List, Tuple\n",
        "\n",
        "import numpy as np\n",
        "import pandas as pd\n",
        "\n",
        "from datasets import load_dataset\n",
        "from sentence_transformers import SentenceTransformer"
      ],
      "metadata": {
        "id": "zD8nYZMKw2In"
      },
      "execution_count": null,
      "outputs": []
    },
    {
      "cell_type": "code",
      "source": [
        "amazon_products = load_dataset(\"ckandemir/amazon-products\")"
      ],
      "metadata": {
        "id": "8bO8aZMrxBm8"
      },
      "execution_count": null,
      "outputs": []
    },
    {
      "cell_type": "code",
      "source": [
        "amazon_products"
      ],
      "metadata": {
        "id": "3zhdbr1Xyv4k"
      },
      "execution_count": null,
      "outputs": []
    },
    {
      "cell_type": "code",
      "source": [
        "names = amazon_products[\"train\"][\"Product Name\"]\n",
        "descriptions = [f\"{name} - {description}\" for name, description in zip(names, amazon_products[\"train\"][\"Description\"])]"
      ],
      "metadata": {
        "id": "ZO7Rz8rkxam5"
      },
      "execution_count": null,
      "outputs": []
    },
    {
      "cell_type": "code",
      "source": [
        "len(descriptions)"
      ],
      "metadata": {
        "id": "mTrbvzpoyki9"
      },
      "execution_count": null,
      "outputs": []
    },
    {
      "cell_type": "markdown",
      "source": [
        "TODO"
      ],
      "metadata": {
        "id": "EIJL6MS81raT"
      }
    }
  ]
}