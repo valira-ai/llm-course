{
 "cells": [
  {
   "cell_type": "markdown",
   "metadata": {},
   "source": [
    "# Odgovarjanje na vprašanja po nestrukturiranih podatkih\n",
    "Ta zvezek predstavi nalogo odgovarjanja na vprašanja po nestrukturiranih podatkih (kot so: pdf-i, spletne strani, ...).\n",
    "\n",
    "Naš cilj je narediti NBA asistenta, ki lahko odgovraja na vprašanja glede NBA pravil in igralcev."
   ]
  },
  {
   "cell_type": "code",
   "execution_count": null,
   "metadata": {},
   "outputs": [],
   "source": [
    "%%capture\n",
    "!pip install langchain tiktoken beautifulsoup4 python-dotenv wikipedia openai faiss-cpu"
   ]
  },
  {
   "cell_type": "code",
   "execution_count": 2,
   "metadata": {},
   "outputs": [],
   "source": [
    "import os\n",
    "\n",
    "import bs4\n",
    "import dotenv\n",
    "import tiktoken\n",
    "\n",
    "from langchain.chat_models import ChatOpenAI\n",
    "from langchain.document_loaders import WebBaseLoader, WikipediaLoader\n",
    "from langchain.embeddings import OpenAIEmbeddings\n",
    "from langchain.schema import StrOutputParser\n",
    "from langchain.schema.runnable import RunnablePassthrough\n",
    "from langchain.prompts import PromptTemplate\n",
    "from langchain.text_splitter import RecursiveCharacterTextSplitter\n",
    "from langchain.vectorstores import FAISS"
   ]
  },
  {
   "cell_type": "code",
   "execution_count": 3,
   "metadata": {},
   "outputs": [],
   "source": [
    "if not dotenv.load_dotenv():\n",
    "    os.environ[\"OPENAI_API_KEY\"] = \"openai-api-key\""
   ]
  },
  {
   "cell_type": "markdown",
   "metadata": {},
   "source": [
    "## Nalaganje Dokumentov\n",
    "Prvi korak indeksiranja je nalaganje dokumentov. Se pravi podatkov katere želimo da LLM uporablja za odgovarjanje.\n",
    "\n",
    "V našem primeru uporabimo dva vira. Uraden NBA pravilnik in manjšo zbirko člankov in Wikipedije."
   ]
  },
  {
   "cell_type": "code",
   "execution_count": 4,
   "metadata": {},
   "outputs": [],
   "source": [
    "nba_rules_urls = [\n",
    "    \"https://official.nba.com/rule-no-1-court-dimensions-equipment/\",\n",
    "    \"https://official.nba.com/rule-no-2-duties-of-the-officials/\",\n",
    "    \"https://official.nba.com/rule-no-3-players-substitutes-and-coaches/\",\n",
    "    \"https://official.nba.com/rule-no-4-definitions/\",\n",
    "    \"https://official.nba.com/rule-no-5-scoring-and-timing/\",\n",
    "    \"https://official.nba.com/rule-no-6-putting-ball-in-play-live-dead-ball/\",\n",
    "    \"https://official.nba.com/rule-no-7-24-second-clock/\",\n",
    "    \"https://official.nba.com/rule-no-8-out-of-bounds-and-throw-in/\",\n",
    "    \"https://official.nba.com/rule-no-9-free-throws-and-penalties/\",\n",
    "    \"https://official.nba.com/rule-no-10-violations-and-penalties/\",\n",
    "    \"https://official.nba.com/rule-no-11-basket-interference-goaltending/\",\n",
    "    \"https://official.nba.com/rule-no-12-fouls-and-penalties/\",\n",
    "    \"https://official.nba.com/rule-no-13-instant-replay/\",\n",
    "    \"https://official.nba.com/rule-no-14-coaches-challenge/\"\n",
    "]"
   ]
  },
  {
   "cell_type": "markdown",
   "metadata": {},
   "source": [
    "Za nalaganje dokumentov LangChain nudi *DocumentLoaders*. Obstaja več različnih nalagalnikov za različne tipe datotek, kot so: PDS, HTML, Markdown, ..."
   ]
  },
  {
   "cell_type": "code",
   "execution_count": 5,
   "metadata": {},
   "outputs": [],
   "source": [
    "loader = WebBaseLoader(\n",
    "    web_paths=nba_rules_urls,\n",
    "    bs_kwargs=dict(parse_only=bs4.SoupStrainer(class_=\"col-xs-12 col-md-9\")),\n",
    ")\n",
    "\n",
    "nba_rules_docs = loader.load()"
   ]
  },
  {
   "cell_type": "code",
   "execution_count": 6,
   "metadata": {},
   "outputs": [
    {
     "data": {
      "text/plain": [
       "Document(page_content='\\n\\nRULE NO. 1: Court Dimensions – Equipment\\n\\n\\nSection I—Court and Dimensions\\n\\nThe playing court shall be measured and marked as shown in the court (See below)\\nA free throw lane shall be marked at each end of the court with dimensions and markings as shown on the court diagram.\\xa0 \\xa0All boundary lines are part of the lane; lane space marks and neutral zone marks are not. The areas identified by the lane space markings are 2” by 6” inches.\\nA free throw line shall be drawn (2” wide) across each of the circles indicated in the court diagram.\\xa0 It shall be parallel to the end line and shall be 15’ from the plane of the face of the backboard.\\nThe three-point field goal area has parallel lines 3’ from the sidelines, extending from the baseline and an arc of 23’9” from the middle of the basket which intersects the parallel lines.\\nFour hash marks shall be drawn (2” wide) perpendicular to the sideline on each side of the court and 28’ from the baseline.\\xa0 These hash marks shall extend 3’ onto the court.\\nTwo hash marks shall be drawn (2” wide) perpendicular to the baseline on each side of the free throw lane line. These hash marks shall be 3’ from the free throw lane line and extend 6” onto the court.\\nFour hash marks shall be drawn (2” wide) parallel to the baseline on each side of the free throw circle.\\xa0 These hash marks shall be 13’ from the baseline and 3’ from the free throw lane lines and shall be 6” in length.\\nTwo hash marks shall be drawn (2” wide) perpendicular to the sideline, in front of the scorer ’s table, and 4’ on each side of the midcourt line. This will designate the Substitution Box.\\nA Restricted Area shall be marked with a half-circle 4’ from the center of the basket ring and then parallel to the lane line to the face of the backboard with a solid two-inch line.\\n\\nSection II—Equipment\\n\\nThe backboard shall be a rectangle measuring 6’ horizontally and 3 ½’ vertically. The front surface shall be flat and transparent.\\nA transparent backboard shall be marked with a 2” white rectangle centered behind the This rectangle shall have outside dimensions of 24” horizontally and 18” vertically.\\nHome management is required to have a spare board with supporting unit on hand for emergencies, and a steel tape or extension ruler and a level for use if necessary.\\nEach basket shall consist of a pressure-release NBA approved metal safety ring 18” in inside diameter with a white cord net 18” in length.\\xa0 The cord of the net shall not be less than 30 thread nor more than 120 thread and shall be constructed to check the ball momentarily as it passes through the basket.\\nEach basket ring shall be securely attached to the backboard with its upper edge 10’ above and parallel to the floor and equidistant from the vertical edges of the board. The nearest point of the inside edge of the ring shall be 6” from the plane of the face of the The ring shall be painted orange.\\n(1) The ball shall be an officially approved NBA ball between 7 ½ and 8 ½ pounds pressure. (2) A minimum of nine balls must be made available to each team for pre-game\\xa0warmup.\\nNBA arena backboards must contain four strips of red LED lights, synchronized with the game clock, outlining the inside of the four sides of the backboard to indicate the expiration of time and one strip of an amber LED light to indicate the expiration of the shot clock.\\n\\n\\n\\n\\n', metadata={'source': 'https://official.nba.com/rule-no-1-court-dimensions-equipment/'})"
      ]
     },
     "execution_count": 6,
     "metadata": {},
     "output_type": "execute_result"
    }
   ],
   "source": [
    "nba_rules_docs[0]"
   ]
  },
  {
   "cell_type": "markdown",
   "metadata": {},
   "source": [
    "Vsak dokument ima *page_content* in *metadata*. (Pomembno za RAG sisteme saj nudi dodatne informacije za filtriranje ali za LLM)"
   ]
  },
  {
   "cell_type": "code",
   "execution_count": 7,
   "metadata": {},
   "outputs": [
    {
     "data": {
      "text/plain": [
       "['https://en.wikipedia.org/wiki/National_Basketball_Association',\n",
       " 'https://en.wikipedia.org/wiki/List_of_NBA_champions',\n",
       " 'https://en.wikipedia.org/wiki/NBA_Finals',\n",
       " 'https://en.wikipedia.org/wiki/NBA_play-in_tournament',\n",
       " 'https://en.wikipedia.org/wiki/2024_NBA_playoffs',\n",
       " 'https://en.wikipedia.org/wiki/LeBron_James',\n",
       " 'https://en.wikipedia.org/wiki/NBA_playoffs',\n",
       " 'https://en.wikipedia.org/wiki/2023%E2%80%9324_NBA_season',\n",
       " 'https://en.wikipedia.org/wiki/2023_NBA_playoffs',\n",
       " 'https://en.wikipedia.org/wiki/NBA_TV',\n",
       " 'https://en.wikipedia.org/wiki/NBA_G_League',\n",
       " 'https://en.wikipedia.org/wiki/NBA_draft',\n",
       " 'https://en.wikipedia.org/wiki/Kobe_Bryant',\n",
       " 'https://en.wikipedia.org/wiki/Stephen_Curry',\n",
       " 'https://en.wikipedia.org/wiki/Michael_Jordan',\n",
       " 'https://en.wikipedia.org/wiki/Women%27s_National_Basketball_Association',\n",
       " 'https://en.wikipedia.org/wiki/List_of_people_banned_or_suspended_by_the_NBA',\n",
       " 'https://en.wikipedia.org/wiki/List_of_current_NBA_team_rosters',\n",
       " 'https://en.wikipedia.org/wiki/NBA_Cup',\n",
       " 'https://en.wikipedia.org/wiki/List_of_NBA_career_scoring_leaders',\n",
       " 'https://en.wikipedia.org/wiki/NBA_Most_Valuable_Player_Award',\n",
       " 'https://en.wikipedia.org/wiki/NBA_2K',\n",
       " 'https://en.wikipedia.org/wiki/List_of_NBA_players_with_most_championships',\n",
       " 'https://en.wikipedia.org/wiki/2022%E2%80%9323_NBA_season',\n",
       " 'https://en.wikipedia.org/wiki/Michael_Porter_Jr.']"
      ]
     },
     "execution_count": 7,
     "metadata": {},
     "output_type": "execute_result"
    }
   ],
   "source": [
    "nba_wiki_docs = WikipediaLoader(query=\"NBA\").load()\n",
    "[doc.metadata[\"source\"] for doc in nba_wiki_docs]"
   ]
  },
  {
   "cell_type": "code",
   "execution_count": 8,
   "metadata": {},
   "outputs": [],
   "source": [
    "docs = nba_rules_docs + nba_wiki_docs\n",
    "for player in [\"Luka Doncic\", \"Nikola Jokic\"]:\n",
    "    docs.append(WikipediaLoader(query=player, load_max_docs=1).load()[0])"
   ]
  },
  {
   "cell_type": "code",
   "execution_count": 9,
   "metadata": {},
   "outputs": [
    {
     "data": {
      "text/plain": [
       "41"
      ]
     },
     "execution_count": 9,
     "metadata": {},
     "output_type": "execute_result"
    }
   ],
   "source": [
    "len(docs)"
   ]
  },
  {
   "cell_type": "markdown",
   "metadata": {},
   "source": [
    "## Deljenje\n",
    "Proces deljenja originalnih dokumentov v manjše, bolj obvladljive enote."
   ]
  },
  {
   "cell_type": "code",
   "execution_count": 10,
   "metadata": {},
   "outputs": [
    {
     "data": {
      "text/plain": [
       "31958"
      ]
     },
     "execution_count": 10,
     "metadata": {},
     "output_type": "execute_result"
    }
   ],
   "source": [
    "len(nba_rules_docs[11].page_content)"
   ]
  },
  {
   "cell_type": "code",
   "execution_count": 11,
   "metadata": {},
   "outputs": [
    {
     "data": {
      "text/plain": [
       "6716"
      ]
     },
     "execution_count": 11,
     "metadata": {},
     "output_type": "execute_result"
    }
   ],
   "source": [
    "encoding = tiktoken.encoding_for_model(\"gpt-3.5-turbo\")\n",
    "len(encoding.encode(nba_rules_docs[11].page_content))"
   ]
  },
  {
   "cell_type": "code",
   "execution_count": 12,
   "metadata": {},
   "outputs": [],
   "source": [
    "splitter = RecursiveCharacterTextSplitter(chunk_size=1000, chunk_overlap=400)\n",
    "split_docs = splitter.split_documents(docs)"
   ]
  },
  {
   "cell_type": "code",
   "execution_count": 13,
   "metadata": {},
   "outputs": [
    {
     "data": {
      "text/plain": [
       "411"
      ]
     },
     "execution_count": 13,
     "metadata": {},
     "output_type": "execute_result"
    }
   ],
   "source": [
    "len(split_docs)"
   ]
  },
  {
   "cell_type": "markdown",
   "metadata": {},
   "source": [
    "## Embed & Shrani"
   ]
  },
  {
   "cell_type": "code",
   "execution_count": 14,
   "metadata": {},
   "outputs": [
    {
     "name": "stderr",
     "output_type": "stream",
     "text": [
      "/home/luka/Projects/DSC-Europe-23-workshop/env/lib/python3.9/site-packages/langchain_core/_api/deprecation.py:119: LangChainDeprecationWarning: The class `OpenAIEmbeddings` was deprecated in LangChain 0.0.9 and will be removed in 0.2.0. An updated version of the class exists in the langchain-openai package and should be used instead. To use it run `pip install -U langchain-openai` and import as `from langchain_openai import OpenAIEmbeddings`.\n",
      "  warn_deprecated(\n"
     ]
    }
   ],
   "source": [
    "vectorstore = FAISS.from_documents(documents=split_docs, embedding=OpenAIEmbeddings())"
   ]
  },
  {
   "cell_type": "markdown",
   "metadata": {},
   "source": [
    "Save it for later use"
   ]
  },
  {
   "cell_type": "code",
   "execution_count": 15,
   "metadata": {},
   "outputs": [],
   "source": [
    "vectorstore.save_local(\"../Data/nba_rules_faiss\")"
   ]
  },
  {
   "cell_type": "markdown",
   "metadata": {},
   "source": [
    "## Iskanje\n",
    "Začetek LLM logike."
   ]
  },
  {
   "cell_type": "code",
   "execution_count": 16,
   "metadata": {},
   "outputs": [],
   "source": [
    "retriever = vectorstore.as_retriever(search_kwargs={'k': 4})"
   ]
  },
  {
   "cell_type": "code",
   "execution_count": 17,
   "metadata": {},
   "outputs": [
    {
     "data": {
      "text/plain": [
       "[Document(page_content=\"Luka Dončić ( DON-chich; Slovene: [ˈlùːka ˈdòːntʃitʃ]; born 28 February 1999) is a Slovenian professional basketball player for the Dallas Mavericks of the National Basketball Association (NBA). Nicknamed “Luka Magic”, he also plays for the Slovenia national team and is regarded as one of the greatest European players of all time.\\nBorn in Ljubljana, Dončić shone as a youth player for Union Olimpija before joining the youth academy of Real Madrid. In 2015 he made his debut for the academy's senior team at age 16, becoming the youngest in club history. He led Madrid to the 2018 EuroLeague title, winning the EuroLeague MVP and the Final Four MVP. Dončić was named the ACB Most Valuable Player and won back-to-back EuroLeague Rising Star and ACB Best Young Player awards. In addition, he was selected to the EuroLeague 2010–20 All-Decade Team.\", metadata={'title': 'Luka Dončić', 'summary': \"Luka Dončić ( DON-chich; Slovene: [ˈlùːka ˈdòːntʃitʃ]; born 28 February 1999) is a Slovenian professional basketball player for the Dallas Mavericks of the National Basketball Association (NBA). Nicknamed “Luka Magic”, he also plays for the Slovenia national team and is regarded as one of the greatest European players of all time.\\nBorn in Ljubljana, Dončić shone as a youth player for Union Olimpija before joining the youth academy of Real Madrid. In 2015 he made his debut for the academy's senior team at age 16, becoming the youngest in club history. He led Madrid to the 2018 EuroLeague title, winning the EuroLeague MVP and the Final Four MVP. Dončić was named the ACB Most Valuable Player and won back-to-back EuroLeague Rising Star and ACB Best Young Player awards. In addition, he was selected to the EuroLeague 2010–20 All-Decade Team.\\nIn 2018, Dončić declared for the NBA draft, where he was drafted by the Atlanta Hawks and then traded to the Dallas Mavericks. He was selected unanimously to the NBA All-Rookie First Team and won Rookie of the Year for the 2018–19 season. In his next four seasons, he was selected to the NBA All-Star game and named to the All-NBA First Team. He is the Mavericks' franchise leader in career triple-doubles.\\nDončić made his senior debut for Slovenia in 2016 at only 17 years of age. He would later help his country win its first EuroBasket title in 2017 while also being named to the All-Tournament Team.\\nDončić led the NBA in scoring during the 2023–24 season, becoming the first European to lead the NBA in scoring and second international player to achieve the feat.\", 'source': 'https://en.wikipedia.org/wiki/Luka_Don%C4%8Di%C4%87'}),\n",
       " Document(page_content=\"=== Union Olimpija ===\\nWhen Dončić was eight, his father started playing for his hometown club Union Olimpija. Olimpija Basketball School coach Grega Brezovec invited Luka to practice with players his age. Dončić was initially expected to practice with players his age. Still, only 16 minutes into his first training session, the coaching staff moved him to the 11-year-old group. Starting in the next session, he primarily practiced with Olimpija's under-14 team. Still, due to league rules, he only played for the club's under-12 selection team, coming off the bench against opponents three or four years older than him. Despite his exclusion from under-14 games at the time, Dončić often asked to attend practice, even when his coach asked him to stay home.\", metadata={'title': 'Luka Dončić', 'summary': \"Luka Dončić ( DON-chich; Slovene: [ˈlùːka ˈdòːntʃitʃ]; born 28 February 1999) is a Slovenian professional basketball player for the Dallas Mavericks of the National Basketball Association (NBA). Nicknamed “Luka Magic”, he also plays for the Slovenia national team and is regarded as one of the greatest European players of all time.\\nBorn in Ljubljana, Dončić shone as a youth player for Union Olimpija before joining the youth academy of Real Madrid. In 2015 he made his debut for the academy's senior team at age 16, becoming the youngest in club history. He led Madrid to the 2018 EuroLeague title, winning the EuroLeague MVP and the Final Four MVP. Dončić was named the ACB Most Valuable Player and won back-to-back EuroLeague Rising Star and ACB Best Young Player awards. In addition, he was selected to the EuroLeague 2010–20 All-Decade Team.\\nIn 2018, Dončić declared for the NBA draft, where he was drafted by the Atlanta Hawks and then traded to the Dallas Mavericks. He was selected unanimously to the NBA All-Rookie First Team and won Rookie of the Year for the 2018–19 season. In his next four seasons, he was selected to the NBA All-Star game and named to the All-NBA First Team. He is the Mavericks' franchise leader in career triple-doubles.\\nDončić made his senior debut for Slovenia in 2016 at only 17 years of age. He would later help his country win its first EuroBasket title in 2017 while also being named to the All-Tournament Team.\\nDončić led the NBA in scoring during the 2023–24 season, becoming the first European to lead the NBA in scoring and second international player to achieve the feat.\", 'source': 'https://en.wikipedia.org/wiki/Luka_Don%C4%8Di%C4%87'}),\n",
       " Document(page_content=\"In 2018, Dončić declared for the NBA draft, where he was drafted by the Atlanta Hawks and then traded to the Dallas Mavericks. He was selected unanimously to the NBA All-Rookie First Team and won Rookie of the Year for the 2018–19 season. In his next four seasons, he was selected to the NBA All-Star game and named to the All-NBA First Team. He is the Mavericks' franchise leader in career triple-doubles.\\nDončić made his senior debut for Slovenia in 2016 at only 17 years of age. He would later help his country win its first EuroBasket title in 2017 while also being named to the All-Tournament Team.\\nDončić led the NBA in scoring during the 2023–24 season, becoming the first European to lead the NBA in scoring and second international player to achieve the feat.\", metadata={'title': 'Luka Dončić', 'summary': \"Luka Dončić ( DON-chich; Slovene: [ˈlùːka ˈdòːntʃitʃ]; born 28 February 1999) is a Slovenian professional basketball player for the Dallas Mavericks of the National Basketball Association (NBA). Nicknamed “Luka Magic”, he also plays for the Slovenia national team and is regarded as one of the greatest European players of all time.\\nBorn in Ljubljana, Dončić shone as a youth player for Union Olimpija before joining the youth academy of Real Madrid. In 2015 he made his debut for the academy's senior team at age 16, becoming the youngest in club history. He led Madrid to the 2018 EuroLeague title, winning the EuroLeague MVP and the Final Four MVP. Dončić was named the ACB Most Valuable Player and won back-to-back EuroLeague Rising Star and ACB Best Young Player awards. In addition, he was selected to the EuroLeague 2010–20 All-Decade Team.\\nIn 2018, Dončić declared for the NBA draft, where he was drafted by the Atlanta Hawks and then traded to the Dallas Mavericks. He was selected unanimously to the NBA All-Rookie First Team and won Rookie of the Year for the 2018–19 season. In his next four seasons, he was selected to the NBA All-Star game and named to the All-NBA First Team. He is the Mavericks' franchise leader in career triple-doubles.\\nDončić made his senior debut for Slovenia in 2016 at only 17 years of age. He would later help his country win its first EuroBasket title in 2017 while also being named to the All-Tournament Team.\\nDončić led the NBA in scoring during the 2023–24 season, becoming the first European to lead the NBA in scoring and second international player to achieve the feat.\", 'source': 'https://en.wikipedia.org/wiki/Luka_Don%C4%8Di%C4%87'}),\n",
       " Document(page_content='Representing Olimpija at the under-14 Vasas Intesa Sanpaolo Cup in Budapest in September 2011, Dončić was named the most valuable player (MVP) despite finishing as runners-up to FC Barcelona. In February 2012, he was loaned to Spanish club Real Madrid for the Minicopa Endesa, an under-14 Spanish club competition. Dončić averaged 13.0 points, 4.0 rebounds, 2.8 assists, and 3.3 steals per game to win tournament', metadata={'title': 'Luka Dončić', 'summary': \"Luka Dončić ( DON-chich; Slovene: [ˈlùːka ˈdòːntʃitʃ]; born 28 February 1999) is a Slovenian professional basketball player for the Dallas Mavericks of the National Basketball Association (NBA). Nicknamed “Luka Magic”, he also plays for the Slovenia national team and is regarded as one of the greatest European players of all time.\\nBorn in Ljubljana, Dončić shone as a youth player for Union Olimpija before joining the youth academy of Real Madrid. In 2015 he made his debut for the academy's senior team at age 16, becoming the youngest in club history. He led Madrid to the 2018 EuroLeague title, winning the EuroLeague MVP and the Final Four MVP. Dončić was named the ACB Most Valuable Player and won back-to-back EuroLeague Rising Star and ACB Best Young Player awards. In addition, he was selected to the EuroLeague 2010–20 All-Decade Team.\\nIn 2018, Dončić declared for the NBA draft, where he was drafted by the Atlanta Hawks and then traded to the Dallas Mavericks. He was selected unanimously to the NBA All-Rookie First Team and won Rookie of the Year for the 2018–19 season. In his next four seasons, he was selected to the NBA All-Star game and named to the All-NBA First Team. He is the Mavericks' franchise leader in career triple-doubles.\\nDončić made his senior debut for Slovenia in 2016 at only 17 years of age. He would later help his country win its first EuroBasket title in 2017 while also being named to the All-Tournament Team.\\nDončić led the NBA in scoring during the 2023–24 season, becoming the first European to lead the NBA in scoring and second international player to achieve the feat.\", 'source': 'https://en.wikipedia.org/wiki/Luka_Don%C4%8Di%C4%87'})]"
      ]
     },
     "execution_count": 17,
     "metadata": {},
     "output_type": "execute_result"
    }
   ],
   "source": [
    "retriever.get_relevant_documents(\"How old is Luka Doncic?\")"
   ]
  },
  {
   "cell_type": "markdown",
   "metadata": {},
   "source": [
    "## Sestavimo vse skupaj:"
   ]
  },
  {
   "cell_type": "code",
   "execution_count": 18,
   "metadata": {},
   "outputs": [],
   "source": [
    "def format_docs(docs):\n",
    "    return \"\\n\\n\".join(doc.page_content for doc in docs)"
   ]
  },
  {
   "cell_type": "code",
   "execution_count": 19,
   "metadata": {},
   "outputs": [],
   "source": [
    "prompt = \"\"\"You are a helpful assistant that answers NBA related question.\n",
    "Use the following pieces of context to answer the user question at the end.\n",
    "Your answers should be concise and to the point. If you don't know the answer, just say that you don't know, don't try to make up an answer.\n",
    "\n",
    "Context: {context}\n",
    "Question: {question}\n",
    "Answer:\"\"\"\n",
    "rag_prompt_template = PromptTemplate.from_template(prompt)"
   ]
  },
  {
   "cell_type": "code",
   "execution_count": 20,
   "metadata": {},
   "outputs": [
    {
     "name": "stderr",
     "output_type": "stream",
     "text": [
      "/home/luka/Projects/DSC-Europe-23-workshop/env/lib/python3.9/site-packages/langchain_core/_api/deprecation.py:119: LangChainDeprecationWarning: The class `ChatOpenAI` was deprecated in LangChain 0.0.10 and will be removed in 0.2.0. An updated version of the class exists in the langchain-openai package and should be used instead. To use it run `pip install -U langchain-openai` and import as `from langchain_openai import ChatOpenAI`.\n",
      "  warn_deprecated(\n"
     ]
    }
   ],
   "source": [
    "llm = ChatOpenAI(model_name=\"gpt-3.5-turbo\", temperature=0)"
   ]
  },
  {
   "cell_type": "code",
   "execution_count": 21,
   "metadata": {},
   "outputs": [],
   "source": [
    "rag_chain = (\n",
    "    {\"context\": retriever | format_docs, \"question\": RunnablePassthrough()}\n",
    "    | rag_prompt_template\n",
    "    | llm\n",
    "    | StrOutputParser()\n",
    ")"
   ]
  },
  {
   "cell_type": "code",
   "execution_count": 22,
   "metadata": {},
   "outputs": [
    {
     "name": "stdout",
     "output_type": "stream",
     "text": [
      "Nikola Jokić was born on February 19, 1995, so he is currently 27 years old.\n"
     ]
    }
   ],
   "source": [
    "print(rag_chain.invoke(\"How old is Nikola Jokic?\"))"
   ]
  },
  {
   "cell_type": "code",
   "execution_count": 23,
   "metadata": {},
   "outputs": [
    {
     "name": "stdout",
     "output_type": "stream",
     "text": [
      "There are three referees in an NBA game.\n"
     ]
    }
   ],
   "source": [
    "print(rag_chain.invoke(\"How many referees are in a game?\"))"
   ]
  },
  {
   "cell_type": "code",
   "execution_count": 24,
   "metadata": {},
   "outputs": [
    {
     "name": "stdout",
     "output_type": "stream",
     "text": [
      "The Los Angeles Lakers and the Boston Celtics have both won the most NBA titles, with 17 championships each.\n"
     ]
    }
   ],
   "source": [
    "print(rag_chain.invoke(\"Which team has won the most NBA titles?\"))"
   ]
  },
  {
   "cell_type": "code",
   "execution_count": 25,
   "metadata": {},
   "outputs": [
    {
     "name": "stdout",
     "output_type": "stream",
     "text": [
      "I'm sorry, I am an assistant focused on answering NBA related questions. I do not have information on the meaning of life.\n"
     ]
    }
   ],
   "source": [
    "print(rag_chain.invoke(\"What is the meaning of life?\"))"
   ]
  },
  {
   "cell_type": "markdown",
   "metadata": {},
   "source": [
    "Our RAG Chain is stateless, we would need to incorporate memory to add a conversational ability."
   ]
  },
  {
   "cell_type": "code",
   "execution_count": 26,
   "metadata": {},
   "outputs": [
    {
     "name": "stdout",
     "output_type": "stream",
     "text": [
      "Nikola Jokić was born on February 19, 1995, so he is currently 27 years old.\n",
      "Luka Dončić is 6 feet 7 inches tall.\n"
     ]
    }
   ],
   "source": [
    "print(rag_chain.invoke(\"How old is Nikola Jokic?\"))\n",
    "print(rag_chain.invoke(\"And how tall is he?\"))"
   ]
  },
  {
   "cell_type": "code",
   "execution_count": 27,
   "metadata": {},
   "outputs": [
    {
     "name": "stdout",
     "output_type": "stream",
     "text": [
      "Nikola Jokić was born on February 19, 1995, making him 27 years old. Luka Dončić was born on February 28, 1999, making him 23 years old.\n"
     ]
    }
   ],
   "source": [
    "print(rag_chain.invoke(\"How old are Nikola Jokic and Luka Doncic?\"))"
   ]
  }
 ],
 "metadata": {
  "kernelspec": {
   "display_name": "Python 3",
   "language": "python",
   "name": "python3"
  },
  "language_info": {
   "codemirror_mode": {
    "name": "ipython",
    "version": 3
   },
   "file_extension": ".py",
   "mimetype": "text/x-python",
   "name": "python",
   "nbconvert_exporter": "python",
   "pygments_lexer": "ipython3",
   "version": "3.9.6"
  }
 },
 "nbformat": 4,
 "nbformat_minor": 2
}
